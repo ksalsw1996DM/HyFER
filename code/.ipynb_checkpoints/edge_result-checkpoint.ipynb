{
 "cells": [
  {
   "cell_type": "code",
   "execution_count": 4,
   "metadata": {},
   "outputs": [
    {
     "name": "stdout",
     "output_type": "stream",
     "text": [
      "citeseer_layer1_epoch200_dropout3.0_ab0.5-0.5_nsMNS_aggrmaxmin_model_attn_ne.log\n",
      "citeseer_layer1_epoch200_dropout3.0_ab0.5-0.5_nsMNS_aggrmaxmin_model_hgnn.log\n",
      "citeseer_layer1_epoch200_dropout3.0_ab0.5-0.5_nsMNS_aggrmaxmin_model_hnhn.log\n",
      "citeseer_layer1_epoch200_dropout3.0_ab0.5-0.5_nsMNS_aggrmean_model_attn_ne.log\n",
      "citeseer_layer1_epoch200_dropout3.0_ab0.5-0.5_nsMNS_aggrmean_model_hgnn.log\n"
     ]
    },
    {
     "ename": "ValueError",
     "evalue": "zero-size array to reduction operation maximum which has no identity",
     "output_type": "error",
     "traceback": [
      "\u001b[0;31m---------------------------------------------------------------------------\u001b[0m",
      "\u001b[0;31mValueError\u001b[0m                                Traceback (most recent call last)",
      "\u001b[0;32m<ipython-input-4-5e3755c80748>\u001b[0m in \u001b[0;36m<module>\u001b[0;34m\u001b[0m\n\u001b[1;32m     52\u001b[0m     \u001b[0mAUROC_LIST\u001b[0m\u001b[0;34m.\u001b[0m\u001b[0mappend\u001b[0m\u001b[0;34m(\u001b[0m\u001b[0mAUROC\u001b[0m\u001b[0;34m)\u001b[0m\u001b[0;34m\u001b[0m\u001b[0;34m\u001b[0m\u001b[0m\n\u001b[1;32m     53\u001b[0m     \u001b[0;31m#if not success :\u001b[0m\u001b[0;34m\u001b[0m\u001b[0;34m\u001b[0m\u001b[0;34m\u001b[0m\u001b[0m\n\u001b[0;32m---> 54\u001b[0;31m     \u001b[0margs_list\u001b[0m \u001b[0;34m+=\u001b[0m \u001b[0;34m[\u001b[0m\u001b[0;34m[\u001b[0m\u001b[0;34m\"Max accuracy\"\u001b[0m\u001b[0;34m,\u001b[0m \u001b[0mnp\u001b[0m\u001b[0;34m.\u001b[0m\u001b[0mmax\u001b[0m\u001b[0;34m(\u001b[0m\u001b[0macc_list\u001b[0m\u001b[0;34m)\u001b[0m\u001b[0;34m]\u001b[0m\u001b[0;34m,\u001b[0m \u001b[0;34m[\u001b[0m\u001b[0;34m\"Min accuracy\"\u001b[0m\u001b[0;34m,\u001b[0m \u001b[0mnp\u001b[0m\u001b[0;34m.\u001b[0m\u001b[0mmin\u001b[0m\u001b[0;34m(\u001b[0m\u001b[0macc_list\u001b[0m\u001b[0;34m)\u001b[0m\u001b[0;34m]\u001b[0m\u001b[0;34m,\u001b[0m \u001b[0;34m[\u001b[0m\u001b[0;34m\"Average accuracy\"\u001b[0m\u001b[0;34m,\u001b[0m \u001b[0mnp\u001b[0m\u001b[0;34m.\u001b[0m\u001b[0mmean\u001b[0m\u001b[0;34m(\u001b[0m\u001b[0macc_list\u001b[0m\u001b[0;34m)\u001b[0m\u001b[0;34m]\u001b[0m\u001b[0;34m,\u001b[0m \u001b[0;34m[\u001b[0m\u001b[0;34m\"Std\"\u001b[0m\u001b[0;34m,\u001b[0m \u001b[0mnp\u001b[0m\u001b[0;34m.\u001b[0m\u001b[0mstd\u001b[0m\u001b[0;34m(\u001b[0m\u001b[0macc_list\u001b[0m\u001b[0;34m)\u001b[0m\u001b[0;34m]\u001b[0m\u001b[0;34m]\u001b[0m\u001b[0;34m\u001b[0m\u001b[0;34m\u001b[0m\u001b[0m\n\u001b[0m\u001b[1;32m     55\u001b[0m     \u001b[0mAUROC_LIST\u001b[0m \u001b[0;34m=\u001b[0m \u001b[0;34m[\u001b[0m\u001b[0mfloat\u001b[0m\u001b[0;34m(\u001b[0m\u001b[0mAUROC\u001b[0m\u001b[0;34m)\u001b[0m \u001b[0;32mfor\u001b[0m \u001b[0mAUROC\u001b[0m \u001b[0;32min\u001b[0m \u001b[0mAUROC_LIST\u001b[0m\u001b[0;34m]\u001b[0m\u001b[0;34m\u001b[0m\u001b[0;34m\u001b[0m\u001b[0m\n\u001b[1;32m     56\u001b[0m     \u001b[0margs_list\u001b[0m \u001b[0;34m+=\u001b[0m \u001b[0;34m[\u001b[0m\u001b[0;34m[\u001b[0m\u001b[0;34m\"Mean AUROC\"\u001b[0m\u001b[0;34m,\u001b[0m \u001b[0mnp\u001b[0m\u001b[0;34m.\u001b[0m\u001b[0mmean\u001b[0m\u001b[0;34m(\u001b[0m\u001b[0mAUROC_LIST\u001b[0m\u001b[0;34m)\u001b[0m\u001b[0;34m]\u001b[0m\u001b[0;34m,\u001b[0m \u001b[0;34m[\u001b[0m\u001b[0;34m\"STD AUROC\"\u001b[0m\u001b[0;34m,\u001b[0m \u001b[0mnp\u001b[0m\u001b[0;34m.\u001b[0m\u001b[0mstd\u001b[0m\u001b[0;34m(\u001b[0m\u001b[0mAUROC_LIST\u001b[0m\u001b[0;34m)\u001b[0m\u001b[0;34m]\u001b[0m\u001b[0;34m,\u001b[0m \u001b[0;34m[\u001b[0m\u001b[0;34m\"Best Epoch\"\u001b[0m\u001b[0;34m,\u001b[0m \u001b[0mBest\u001b[0m\u001b[0;34m]\u001b[0m\u001b[0;34m]\u001b[0m\u001b[0;34m\u001b[0m\u001b[0;34m\u001b[0m\u001b[0m\n",
      "\u001b[0;32m<__array_function__ internals>\u001b[0m in \u001b[0;36mamax\u001b[0;34m(*args, **kwargs)\u001b[0m\n",
      "\u001b[0;32m/opt/conda/lib/python3.6/site-packages/numpy/core/fromnumeric.py\u001b[0m in \u001b[0;36mamax\u001b[0;34m(a, axis, out, keepdims, initial, where)\u001b[0m\n\u001b[1;32m   2619\u001b[0m     \"\"\"\n\u001b[1;32m   2620\u001b[0m     return _wrapreduction(a, np.maximum, 'max', axis, None, out,\n\u001b[0;32m-> 2621\u001b[0;31m                           keepdims=keepdims, initial=initial, where=where)\n\u001b[0m\u001b[1;32m   2622\u001b[0m \u001b[0;34m\u001b[0m\u001b[0m\n\u001b[1;32m   2623\u001b[0m \u001b[0;34m\u001b[0m\u001b[0m\n",
      "\u001b[0;32m/opt/conda/lib/python3.6/site-packages/numpy/core/fromnumeric.py\u001b[0m in \u001b[0;36m_wrapreduction\u001b[0;34m(obj, ufunc, method, axis, dtype, out, **kwargs)\u001b[0m\n\u001b[1;32m     88\u001b[0m                 \u001b[0;32mreturn\u001b[0m \u001b[0mreduction\u001b[0m\u001b[0;34m(\u001b[0m\u001b[0maxis\u001b[0m\u001b[0;34m=\u001b[0m\u001b[0maxis\u001b[0m\u001b[0;34m,\u001b[0m \u001b[0mout\u001b[0m\u001b[0;34m=\u001b[0m\u001b[0mout\u001b[0m\u001b[0;34m,\u001b[0m \u001b[0;34m**\u001b[0m\u001b[0mpasskwargs\u001b[0m\u001b[0;34m)\u001b[0m\u001b[0;34m\u001b[0m\u001b[0;34m\u001b[0m\u001b[0m\n\u001b[1;32m     89\u001b[0m \u001b[0;34m\u001b[0m\u001b[0m\n\u001b[0;32m---> 90\u001b[0;31m     \u001b[0;32mreturn\u001b[0m \u001b[0mufunc\u001b[0m\u001b[0;34m.\u001b[0m\u001b[0mreduce\u001b[0m\u001b[0;34m(\u001b[0m\u001b[0mobj\u001b[0m\u001b[0;34m,\u001b[0m \u001b[0maxis\u001b[0m\u001b[0;34m,\u001b[0m \u001b[0mdtype\u001b[0m\u001b[0;34m,\u001b[0m \u001b[0mout\u001b[0m\u001b[0;34m,\u001b[0m \u001b[0;34m**\u001b[0m\u001b[0mpasskwargs\u001b[0m\u001b[0;34m)\u001b[0m\u001b[0;34m\u001b[0m\u001b[0;34m\u001b[0m\u001b[0m\n\u001b[0m\u001b[1;32m     91\u001b[0m \u001b[0;34m\u001b[0m\u001b[0m\n\u001b[1;32m     92\u001b[0m \u001b[0;34m\u001b[0m\u001b[0m\n",
      "\u001b[0;31mValueError\u001b[0m: zero-size array to reduction operation maximum which has no identity"
     ]
    }
   ],
   "source": [
    "import os\n",
    "import csv\n",
    "import numpy as np\n",
    "base_dir = \"e_logs\"\n",
    "file_list = os.listdir(base_dir)\n",
    "file_list.sort()\n",
    "result_file = open('results_hyperedge.csv', 'w')\n",
    "writer = csv.writer(result_file)\n",
    "results = []\n",
    "for file in file_list :\n",
    "    if os.path.isdir(os.path.join(base_dir, file)) :\n",
    "        continue\n",
    "    begin=False\n",
    "    f = open(os.path.join(base_dir, file))\n",
    "    expr_result = f.readlines()\n",
    "    args = expr_result[0]\n",
    "    args = args.split('(')[1].split(')')[0].replace('\\'','').replace(\" \", \"\")\n",
    "    args_list = args.split(\",\")\n",
    "    args_list = list(map(lambda x : x.split(\"=\"), args_list))\n",
    "    result = expr_result[-1]\n",
    "    result = result.split(\" \")\n",
    "    success = True\n",
    "    #try :\n",
    "#        args_list += [[\"Max accuracy\", result[3].replace(\",\",\"\")], [\"Min accuracy\", result[5].replace(\",\",\"\")], [\"Average accuracy\", result[7].replace(\",\",\"\")], [\"Std\", result[9]]]\n",
    " #   except :\n",
    "  #      success = False\n",
    "   #     print(file)\n",
    "    #    pass\n",
    "    #if not success :\n",
    "     #   print(file)\n",
    "    print(file)\n",
    "    AUROC_LIST=[]\n",
    "    AUROC = \"\"\n",
    "    Best = \"\"\n",
    "    #if not success :\n",
    "    acc_list = []\n",
    "    acc = \"\"\n",
    "    for i in range(len(expr_result)) :\n",
    "        row = expr_result[i]\n",
    "        if 'currently' in row :\n",
    "            acc = float(row.split()[-1])\n",
    "            Best = row.split(\" \")[0]\n",
    "            prev_row = expr_result[i-1]\n",
    "            AUROC = prev_row.split()[-1]\n",
    "            if row[0]=='0':\n",
    "                if not begin :\n",
    "                    begin=True\n",
    "                else :\n",
    "                    #if not success : \n",
    "                    acc_list.append(acc)\n",
    "                    AUROC_LIST.append(AUROC)\n",
    "    AUROC_LIST.append(AUROC)\n",
    "    acc_list.append(acc)\n",
    "    #if not success :\n",
    "    args_list += [[\"Max accuracy\", np.max(acc_list)], [\"Min accuracy\", np.min(acc_list)], [\"Average accuracy\", np.mean(acc_list)], [\"Std\", np.std(acc_list)]]\n",
    "    AUROC_LIST = [float(AUROC) for AUROC in AUROC_LIST]\n",
    "    args_list += [[\"Mean AUROC\", np.mean(AUROC_LIST)], [\"STD AUROC\", np.std(AUROC_LIST)], [\"Best Epoch\", Best]]\n",
    "    results.append(args_list)\n",
    "exp_result = results[0]\n",
    "category = [x[0] for x in exp_result]\n",
    "writer.writerow(category)\n",
    "for r in results :\n",
    "    val = [x[1] for x in r]\n",
    "    writer.writerow(val)\n",
    "result_file.close()"
   ]
  },
  {
   "cell_type": "code",
   "execution_count": 9,
   "metadata": {},
   "outputs": [
    {
     "name": "stdout",
     "output_type": "stream",
     "text": [
      "/workspace/jupyter/Benchmark\n"
     ]
    }
   ],
   "source": [
    "!pwd"
   ]
  },
  {
   "cell_type": "code",
   "execution_count": 12,
   "metadata": {},
   "outputs": [],
   "source": [
    "f=open(\"/workspace/jupyter/scripts.txt\", 'r')\n",
    "cmds = f.readlines()\n",
    "import os\n",
    "import csv\n",
    "base_dir = \"e_logs\"\n",
    "file_list = os.listdir(base_dir)\n",
    "file_list.sort()\n",
    "logs=[]\n",
    "for file in file_list :\n",
    "    if os.path.isdir(os.path.join(base_dir, file)) :\n",
    "        continue\n",
    "    logs.append(file)\n"
   ]
  },
  {
   "cell_type": "code",
   "execution_count": 16,
   "metadata": {},
   "outputs": [],
   "source": [
    "base_exp = \"{}_layer1_epoch200_dropout3.0_ab0.5-0.5_nsMNS_aggr{}_model_{}.log\"\n",
    "exist_exp = []\n",
    "notdone_exp = []\n",
    "for cmd in cmds :\n",
    "    split = cmd.split()\n",
    "    exp_num = base_exp.format(split[3], split[11], split[9])\n",
    "    if exp_num in logs:\n",
    "        exist_exp.append(cmd)\n",
    "    else :\n",
    "        notdone_exp.append(cmd)"
   ]
  },
  {
   "cell_type": "code",
   "execution_count": 18,
   "metadata": {},
   "outputs": [
    {
     "data": {
      "text/plain": [
       "29"
      ]
     },
     "execution_count": 18,
     "metadata": {},
     "output_type": "execute_result"
    }
   ],
   "source": [
    "len(exist_exp)"
   ]
  },
  {
   "cell_type": "code",
   "execution_count": 19,
   "metadata": {},
   "outputs": [
    {
     "data": {
      "text/plain": [
       "19"
      ]
     },
     "execution_count": 19,
     "metadata": {},
     "output_type": "execute_result"
    }
   ],
   "source": [
    "len(notdone_exp)"
   ]
  },
  {
   "cell_type": "code",
   "execution_count": 23,
   "metadata": {},
   "outputs": [
    {
     "data": {
      "text/plain": [
       "'python edge_prediction.py --dataset_name citeseer --dim_vertex 400 --dim_edge 400 --model hnhn --aggr mean --n_layer 1 --alpha_v 0.5 --alpha_e -0.5 --gpu 0\\n'"
      ]
     },
     "execution_count": 23,
     "metadata": {},
     "output_type": "execute_result"
    }
   ],
   "source": [
    "exist_exp[0]"
   ]
  },
  {
   "cell_type": "code",
   "execution_count": 22,
   "metadata": {},
   "outputs": [
    {
     "data": {
      "text/plain": [
       "'citeseer_layer1_epoch200_dropout3.0_ab0.5-0.5_nsMNS_aggrmaxmin_model_hgnn.log'"
      ]
     },
     "execution_count": 22,
     "metadata": {},
     "output_type": "execute_result"
    }
   ],
   "source": [
    "logs[0]"
   ]
  },
  {
   "cell_type": "code",
   "execution_count": 25,
   "metadata": {},
   "outputs": [],
   "source": [
    "f_tmp = open(\"scripts_tbd.txt\", 'w')\n",
    "for exp in notdone_exp:\n",
    "    f_tmp.write(exp)\n"
   ]
  },
  {
   "cell_type": "code",
   "execution_count": 26,
   "metadata": {},
   "outputs": [],
   "source": [
    "f_tmp.close()"
   ]
  },
  {
   "cell_type": "code",
   "execution_count": null,
   "metadata": {},
   "outputs": [],
   "source": []
  }
 ],
 "metadata": {
  "kernelspec": {
   "display_name": "Python 3",
   "language": "python",
   "name": "python3"
  },
  "language_info": {
   "codemirror_mode": {
    "name": "ipython",
    "version": 3
   },
   "file_extension": ".py",
   "mimetype": "text/x-python",
   "name": "python",
   "nbconvert_exporter": "python",
   "pygments_lexer": "ipython3",
   "version": "3.6.9"
  }
 },
 "nbformat": 4,
 "nbformat_minor": 4
}
